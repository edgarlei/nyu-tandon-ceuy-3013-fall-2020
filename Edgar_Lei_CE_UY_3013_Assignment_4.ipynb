{
  "nbformat": 4,
  "nbformat_minor": 0,
  "metadata": {
    "colab": {
      "name": "Edgar Lei CE-UY 3013 Assignment 4.ipynb",
      "provenance": [],
      "collapsed_sections": []
    },
    "kernelspec": {
      "name": "python3",
      "display_name": "Python 3"
    }
  },
  "cells": [
    {
      "cell_type": "markdown",
      "metadata": {
        "id": "bIDAUOH-5kMI"
      },
      "source": [
        "# Assignment 4\n",
        "\n",
        "**Due Thursday, Oct 22 2020 @ 11:55 pm**\n",
        "\n",
        "<p style=\"color:red;\"><strong>Show all work, add comments and docstrings!!!</strong></p>\n",
        "\n",
        "Produce a new class named ``Roster`` that keeps track of the students enrolled in a course. A new instance of the ``Roster`` class must be initialized with the course name and term only, such as:\n",
        "\n",
        "```python\n",
        ">>> ceuy3013 = Roster('Computing in Civil Engineering', 'Fall 2020')\n",
        "```\n",
        "\n",
        "No students should be added at initialization, instead, a new student can be added with an ``add_student`` method which takes the name, email, level and current GPA of the student, such as:\n",
        "\n",
        "```python\n",
        ">>> ceuy3013.add_student('Monica Geller', 'mg999@nyu.edu', 'Junior', 3.86)\n",
        "'Monica Geller was added to the roster'\n",
        "```\n",
        "\n",
        "Notice that the ``add_student`` returns a success message 'Monica Geller was added to the roster'. In fact, we have a 2.0 threshold for adding students to the roster. Which means that adding a student with a GPA below 2.0 will return a different message:\n",
        "\n",
        "```python\n",
        ">>> ceuy3013.add_student('Chandler Bing', 'cb999@nyu.edu', 'Junior', 1.65)\n",
        "'Chandler Bing could not be added because their current GPA is below 2.0'\n",
        "```\n",
        "\n",
        "At which point we can use ``print`` and see all students in our roster.\n",
        "\n",
        "```python\n",
        ">>> print(ceuy3013)\n",
        "\"[['Monica Geller', 'mg999@nyu.edu', 'Junior', 3.86]]\"\n",
        "```\n",
        "\n",
        "And if we add a few more with GPA above 2.0, the print statement will return the following:\n",
        "\n",
        "```python\n",
        ">>> print(ceuy3013)\n",
        "\"[['Monica Geller', 'mg999@nyu.edu', 'Junior', 3.86], ['Jack Smith', 'js999@nyu.edu', 'Sophomore', 2.8], ['Jane Clack', 'jc999@nyu.edu', 'Senior', 3.34], ['Mary Stevens', 'ms999@nyu.edu', 'Sophomore', 2.95]]\"\n",
        "```\n",
        "\n",
        "We should get total enrollment with ``len``:\n",
        "\n",
        "```python\n",
        ">>> len(ceuy3013)\n",
        "4\n",
        "```\n",
        "\n",
        "Next, the ``Roster`` class should also have a method that removes a student by their email, ``remove_student`` (bonus points if your ``add_student`` method also makes sure that all emails in the roster are unique). The method should work like this:\n",
        "\n",
        "```python \n",
        ">>> ceuy3013.remove_student('mg999@nyu.edu')\n",
        "'Monica Geller was removed from the roster'\n",
        "```\n",
        "\n",
        "And we can verify by printing the roster again:\n",
        "\n",
        "```python\n",
        ">>> print(ceuy3013)\n",
        "\"[['Jack Smith', 'js999@nyu.edu', 'Sophomore', 2.8], ['Jane Clack', 'jc999@nyu.edu', 'Senior', 3.34], ['Mary Stevens', 'ms999@nyu.edu', 'Sophomore', 2.95]]\"\n",
        "```\n",
        "\n",
        "Finally, there needs to be a method, ``avg_gpa``, that returns the average GPA of the enrolled students. Assuming we have the three students shown above, the result should be:\n",
        "\n",
        "```python\n",
        ">>> ceuy3013.avg_gpa()\n",
        "3.03\n",
        "```\n",
        "\n",
        "Once again, **show all work!!!**. You do not need any external libraries to complete this assignment. Fill in your code below. Good luck!\n",
        "\n",
        "---"
      ]
    },
    {
      "cell_type": "code",
      "metadata": {
        "id": "C0KUL1IB5e8B",
        "outputId": "c22dd79a-dde8-4d5c-d730-c3064c634f89",
        "colab": {
          "base_uri": "https://localhost:8080/",
          "height": 229
        }
      },
      "source": [
        "class Roster:\n",
        "\n",
        "    # Type in your code here\n",
        "\n",
        "    # init Constructor\n",
        "    def __init__(self, coursename, courseterm):\n",
        "      self.coursename = coursename\n",
        "      self.courseterm = courseterm\n",
        "      ''' Not sure what I'm doing incorrectly but the contents of the roster are \n",
        "      printed only if I initially set roster to an empty list. Otherwise, it just \n",
        "      returns <__main__.Roster object at 0x7f2eab20a4e0>\n",
        "      '''\n",
        "      self.roster = []\n",
        "\n",
        "    # Method to add student\n",
        "    def add_student(self, name, email, level, gpa):\n",
        "      ''' Checking to make sure student's GPA is at least 2.0\n",
        "      '''\n",
        "      if gpa < 2.0:\n",
        "        print(name + ' could not be added because their current GPA is below 2.0.')\n",
        "      else:\n",
        "        self.roster.append([name, email, level, gpa])\n",
        "        print(name + ' was added to the roster.')\n",
        "\n",
        "    # Method to find length of roster\n",
        "    def len_roster(self):\n",
        "      print('There are ' + str(len(self.roster)) + ' students in the roster.')\n",
        "      \n",
        "\n",
        "    # Method to remove student by their email\n",
        "    def remove_student(self, email):\n",
        "      '''Two lists: one to check for duplicates, and one that contains all the \n",
        "      duplicates that exist\n",
        "      '''\n",
        "      pos_dup = []\n",
        "      dup_list = []\n",
        "      '''Iterates through roster. Checks to see if email matches any previous\n",
        "      emails in the first list (pos_dup). If so, that email is added to the list \n",
        "      of duplicates (dup_list). If not, that email is added to pos_dup so that \n",
        "      it can be compared with subsequent emails.\n",
        "      '''\n",
        "      for x in self.roster:\n",
        "        if x[1] in pos_dup:\n",
        "          dup_list.append(x[1])\n",
        "        else:\n",
        "          pos_dup.append(x[1])\n",
        "      ''' Removes student if there are no duplicates (empty list). If there are \n",
        "      any duplicates, the students are not removed, and a message is printing \n",
        "      that lists the duplicate email(s) as well as the names of the students\n",
        "      associated with those emails.\n",
        "      '''\n",
        "      if len(dup_list) == 0:\n",
        "        ''' Iterates through each student to find email that matches the input\n",
        "        and removes the student that meets that criterium\n",
        "        '''\n",
        "        for i in self.roster:\n",
        "          if email == i[1]:\n",
        "            self.roster.remove(i)\n",
        "            print(i[0] + ' was removed from the roster.')\n",
        "      else:\n",
        "        print('There are non-unique emails in the roster: ' + str(dup_list) + '.')\n",
        "\n",
        "    # Method to find class GPA average\n",
        "    def avg_gpa(self):\n",
        "      ''' Replicates mathematical process for finding average: summing up all the\n",
        "      values then dividing by the number of values\n",
        "      '''\n",
        "      sum_gpa = 0\n",
        "      for i in self.roster:\n",
        "        sum_gpa += i[-1]\n",
        "      avg = sum_gpa / len(self.roster)\n",
        "      print('The average GPA of the class is ' + str(avg) + '.')\n",
        "\n",
        "# -- Sample Data --------------------------------------------------------\n",
        "ceuy3013 = Roster('Computing in Civil Engineering', 'Fall 2020')\n",
        "ceuy3013.add_student('Monica Geller', 'mg999@nyu.edu', 'Junior', 3.86)\n",
        "ceuy3013.add_student('Chandler Bing', 'cb999@nyu.edu', 'Junior', 1.65)\n",
        "print(ceuy3013.roster)\n",
        "\n",
        "ceuy3013.add_student('Jack Smith', 'js999@nyu.edu', 'Sophomore', 2.8)\n",
        "ceuy3013.add_student('Jane Clack', 'jc999@nyu.edu', 'Senior', 3.34)\n",
        "ceuy3013.add_student('Mary Stevens', 'ms999@nyu.edu', 'Sophomore', 2.95)\n",
        "print(ceuy3013.roster)\n",
        "ceuy3013.len_roster()\n",
        "\n",
        "ceuy3013.remove_student('mg999@nyu.edu')\n",
        "print(ceuy3013.roster)\n",
        "\n",
        "ceuy3013.avg_gpa()"
      ],
      "execution_count": 22,
      "outputs": [
        {
          "output_type": "stream",
          "text": [
            "Monica Geller was added to the roster.\n",
            "Chandler Bing could not be added because their current GPA is below 2.0.\n",
            "[['Monica Geller', 'mg999@nyu.edu', 'Junior', 3.86]]\n",
            "Jack Smith was added to the roster.\n",
            "Jane Clack was added to the roster.\n",
            "Mary Stevens was added to the roster.\n",
            "[['Monica Geller', 'mg999@nyu.edu', 'Junior', 3.86], ['Jack Smith', 'js999@nyu.edu', 'Sophomore', 2.8], ['Jane Clack', 'jc999@nyu.edu', 'Senior', 3.34], ['Mary Stevens', 'ms999@nyu.edu', 'Sophomore', 2.95]]\n",
            "There are 4 students in the roster.\n",
            "Monica Geller was removed from the roster.\n",
            "[['Jack Smith', 'js999@nyu.edu', 'Sophomore', 2.8], ['Jane Clack', 'jc999@nyu.edu', 'Senior', 3.34], ['Mary Stevens', 'ms999@nyu.edu', 'Sophomore', 2.95]]\n",
            "The average GPA of the class is 3.03.\n"
          ],
          "name": "stdout"
        }
      ]
    },
    {
      "cell_type": "code",
      "metadata": {
        "id": "dp-7V0StJL1d",
        "outputId": "9f6b1d21-ddb8-4c51-cfb6-d1a8728929d7",
        "colab": {
          "base_uri": "https://localhost:8080/",
          "height": 56
        }
      },
      "source": [
        "print(ceuy3013.roster)"
      ],
      "execution_count": null,
      "outputs": [
        {
          "output_type": "stream",
          "text": [
            "[['Monica Geller', 'mg999@nyu.edu', 'Junior', 3.86], ['Jack Smith', 'js999@nyu.edu', 'Sophomore', 2.8], ['Jane Clack', 'jc999@nyu.edu', 'Senior', 3.34], ['Mary Stevens', 'ms999@nyu.edu', 'Sophomore', 2.95]]\n"
          ],
          "name": "stdout"
        }
      ]
    },
    {
      "cell_type": "code",
      "metadata": {
        "id": "lynk-9dSXqjE",
        "outputId": "cc6ee67c-a63f-4a91-c940-dd2acfd74e33",
        "colab": {
          "base_uri": "https://localhost:8080/",
          "height": 36
        }
      },
      "source": [
        "len(ceuy3013)"
      ],
      "execution_count": null,
      "outputs": [
        {
          "output_type": "execute_result",
          "data": {
            "text/plain": [
              "3"
            ]
          },
          "metadata": {
            "tags": []
          },
          "execution_count": 108
        }
      ]
    },
    {
      "cell_type": "code",
      "metadata": {
        "id": "2wutnKtwXsgu",
        "outputId": "c076e972-d40f-4355-b457-e84429412e0e",
        "colab": {
          "base_uri": "https://localhost:8080/",
          "height": 36
        }
      },
      "source": [
        "len(ceuy3013.roster)"
      ],
      "execution_count": null,
      "outputs": [
        {
          "output_type": "execute_result",
          "data": {
            "text/plain": [
              "3"
            ]
          },
          "metadata": {
            "tags": []
          },
          "execution_count": 109
        }
      ]
    },
    {
      "cell_type": "code",
      "metadata": {
        "id": "QEXRQ-VAYbOW",
        "outputId": "ba355a28-8a79-4d8a-f804-7b9a95353070",
        "colab": {
          "base_uri": "https://localhost:8080/",
          "height": 36
        }
      },
      "source": [
        "ceuy3013.avg_gpa()"
      ],
      "execution_count": null,
      "outputs": [
        {
          "output_type": "execute_result",
          "data": {
            "text/plain": [
              "3.03"
            ]
          },
          "metadata": {
            "tags": []
          },
          "execution_count": 119
        }
      ]
    }
  ]
}