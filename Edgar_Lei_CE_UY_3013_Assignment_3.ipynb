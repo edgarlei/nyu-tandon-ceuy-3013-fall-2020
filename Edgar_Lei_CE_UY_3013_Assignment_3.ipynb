{
  "nbformat": 4,
  "nbformat_minor": 0,
  "metadata": {
    "colab": {
      "name": "Edgar Lei CE-UY 3013 Assignment 3.ipynb",
      "provenance": [],
      "collapsed_sections": []
    },
    "kernelspec": {
      "name": "python3",
      "display_name": "Python 3"
    }
  },
  "cells": [
    {
      "cell_type": "markdown",
      "metadata": {
        "id": "fUfsK14SND-p"
      },
      "source": [
        "# Assignment 3\n",
        "\n",
        "**Due Thursday, Oct 8 2020 @ 11:55 pm**\n",
        "\n",
        "Calculate the forces in each member. Assume AE is constant. Green arrows show far/end nodes. **Show all work.**\n",
        "\n",
        "<img src=\"https://storage.googleapis.com/nm-static/computing_maloof2_20201001.png\" alt=\"nyu_comp_f20\">\n"
      ]
    },
    {
      "cell_type": "code",
      "metadata": {
        "id": "gZIm4WbUNC-x"
      },
      "source": [
        "# Imports\n",
        "import numpy as np"
      ],
      "execution_count": 15,
      "outputs": []
    },
    {
      "cell_type": "code",
      "metadata": {
        "id": "PaJ2RrjRk88p"
      },
      "source": [
        "# Establish coordinates\n",
        "x1, y1 = 4, 4\n",
        "x2, y2 = 0, 0\n",
        "x3, y3 = 4, 0\n",
        "x4, y4 = 7, 0"
      ],
      "execution_count": 16,
      "outputs": []
    },
    {
      "cell_type": "code",
      "metadata": {
        "id": "xsfjHXdjnasF",
        "outputId": "18a7ba48-4b19-46c4-e5bb-874dec7fd369",
        "colab": {
          "base_uri": "https://localhost:8080/",
          "height": 72
        }
      },
      "source": [
        "# Calculate member lengths\n",
        "def member_len(xy1, xy2):\n",
        "    \"\"\" Given the coordinates of two points, the distance between them\n",
        "    will be calculated.\n",
        "    \"\"\"\n",
        "    return np.linalg.norm(np.array(xy1) - np.array(xy2))\n",
        "\n",
        "mem1 = member_len((x1, y1), (x2, y2))\n",
        "mem2 = member_len((x1, y1), (x3, y3))\n",
        "mem3 = member_len((x1, y1), (x4, y4))\n",
        "\n",
        "print('Length of Member 1:', mem1, '\\nLength of Member 2:', mem2, '\\nLength of Member 3:', mem3)"
      ],
      "execution_count": 17,
      "outputs": [
        {
          "output_type": "stream",
          "text": [
            "Length of Member 1: 5.656854249492381 \n",
            "Length of Member 2: 4.0 \n",
            "Length of Member 3: 5.0\n"
          ],
          "name": "stdout"
        }
      ]
    },
    {
      "cell_type": "code",
      "metadata": {
        "id": "0e9KDxMjuZs0",
        "outputId": "a6b4f4d3-888e-424d-f76d-73383d95a9d2",
        "colab": {
          "base_uri": "https://localhost:8080/",
          "height": 72
        }
      },
      "source": [
        "# Finding direction cosines\n",
        "\n",
        "# Member 1 (nodes 1 and 2)\n",
        "mem_x1 = (x2 - x1)/mem1\n",
        "mem_y1 = (y2 - y1)/mem1\n",
        "\n",
        "# Member 2 (nodes 1 and 3)\n",
        "mem_x2 = (x3 - x1)/mem2\n",
        "mem_y2 = (y3 - y1)/mem2\n",
        "\n",
        "# Member 3 (nodes 1 and 4)\n",
        "mem_x3 = (x4 - x1)/mem3\n",
        "mem_y3 = (y4 - y1)/mem3\n",
        "\n",
        "print('Member 1:', mem_x1, mem_y1, '\\nMember 2:', mem_x2, mem_y2, '\\nMember 3:', mem_x3, mem_y3)"
      ],
      "execution_count": 18,
      "outputs": [
        {
          "output_type": "stream",
          "text": [
            "Member 1: -0.7071067811865475 -0.7071067811865475 \n",
            "Member 2: 0.0 -1.0 \n",
            "Member 3: 0.6 -0.8\n"
          ],
          "name": "stdout"
        }
      ]
    },
    {
      "cell_type": "code",
      "metadata": {
        "id": "SptTiU0Z_0hs",
        "outputId": "0f7956f0-0101-4bc9-e4d3-45d85634219b",
        "colab": {
          "base_uri": "https://localhost:8080/",
          "height": 72
        }
      },
      "source": [
        "# Finding direction cosines (function)\n",
        "def dir_cos(xy1, xy2):\n",
        "    \"\"\" Given the point coordinates for a member, its direction cosines will be calculated.\n",
        "    \"\"\"\n",
        "    mem_len = member_len(xy1, xy2)\n",
        "    return (xy2[0] - xy1[0])/mem_len, (xy2[1] - xy1[1])/mem_len\n",
        "\n",
        "mem_x1, mem_y1 = dir_cos((x1, y1), (x2, y2))\n",
        "mem_x2, mem_y2 = dir_cos((x1, y1), (x3, y3))\n",
        "mem_x3, mem_y3 = dir_cos((x1, y1), (x4, y4))\n",
        "\n",
        "print('Member 1:', mem_x1, mem_y1, '\\nMember 2:', mem_x2, mem_y2, '\\nMember 3:', mem_x3, mem_y3)"
      ],
      "execution_count": 19,
      "outputs": [
        {
          "output_type": "stream",
          "text": [
            "Member 1: -0.7071067811865475 -0.7071067811865475 \n",
            "Member 2: 0.0 -1.0 \n",
            "Member 3: 0.6 -0.8\n"
          ],
          "name": "stdout"
        }
      ]
    },
    {
      "cell_type": "markdown",
      "metadata": {
        "id": "5WC9j8coA8ip"
      },
      "source": [
        "The Stiffness Matrix\n",
        "\n",
        "$$\n",
        "K_j = \\dfrac{AE}{L}\n",
        "\\begin{bmatrix}\n",
        "(\\lambda x)^2 & \\lambda x \\lambda y & -(\\lambda x)^2 & - \\lambda x \\lambda y \\\\\n",
        "\\lambda x \\lambda y & (\\lambda y)^2 & -\\lambda x \\lambda y & -(\\lambda y)^2 \\\\\n",
        "-(\\lambda x)^2 & -\\lambda x \\lambda y & (\\lambda x)^2 & \\lambda x \\lambda y \\\\\n",
        "-\\lambda x \\lambda y & -(\\lambda y)^2 & \\lambda x \\lambda y & (\\lambda y)^2\n",
        "\\end{bmatrix}\n",
        "$$\n",
        "\n",
        "It is assumed that AE is constant."
      ]
    },
    {
      "cell_type": "code",
      "metadata": {
        "id": "pgIFEBCSA7rp",
        "outputId": "4ac3180e-4ebb-4010-f47f-16d12f4f50d7",
        "colab": {
          "base_uri": "https://localhost:8080/",
          "height": 332
        }
      },
      "source": [
        "# In order to determine the stiffness matrix for a member, the matrix is divided by the length of the member.\n",
        "def stiff_mtx(xy1, xy2):\n",
        "    \"\"\" Given the coordinates of a member's nodes, the stiffness matrix for that member will be returned.\n",
        "    \"\"\"\n",
        "    memlen = member_len(xy1, xy2)\n",
        "    lmx, lmy = dir_cos(xy1, xy2)\n",
        "    \"\"\" The past two functions are recalled and their results are stored in variables for easy access.\n",
        "    \"\"\"\n",
        "    return np.array(\n",
        "        [\n",
        "        [lmx**2, lmx*lmy, -lmx**2, -lmx*lmy],\n",
        "        [lmx*lmy, lmy**2, -lmx*lmy, -lmy**2],\n",
        "        [-lmx**2, -lmx*lmy, lmx**2, lmx*lmy],\n",
        "        [-lmx*lmy, -lmy**2, lmx*lmy, lmy**2]\n",
        "        ]\n",
        "    ) / memlen\n",
        "\n",
        "k1 = stiff_mtx((x1, y1), (x2, y2))\n",
        "k2 = stiff_mtx((x1, y1), (x3, y3))\n",
        "k3 = stiff_mtx((x1, y1), (x4, y4))\n",
        "\n",
        "print('Member 1:', '\\n', k1, '\\n')\n",
        "print('Member 2:', '\\n', k2, '\\n')\n",
        "print('Member 3:', '\\n', k3)"
      ],
      "execution_count": 20,
      "outputs": [
        {
          "output_type": "stream",
          "text": [
            "Member 1: \n",
            " [[ 0.08838835  0.08838835 -0.08838835 -0.08838835]\n",
            " [ 0.08838835  0.08838835 -0.08838835 -0.08838835]\n",
            " [-0.08838835 -0.08838835  0.08838835  0.08838835]\n",
            " [-0.08838835 -0.08838835  0.08838835  0.08838835]] \n",
            "\n",
            "Member 2: \n",
            " [[ 0.   -0.   -0.    0.  ]\n",
            " [-0.    0.25  0.   -0.25]\n",
            " [-0.    0.    0.   -0.  ]\n",
            " [ 0.   -0.25 -0.    0.25]] \n",
            "\n",
            "Member 3: \n",
            " [[ 0.072 -0.096 -0.072  0.096]\n",
            " [-0.096  0.128  0.096 -0.128]\n",
            " [-0.072  0.096  0.072 -0.096]\n",
            " [ 0.096 -0.128 -0.096  0.128]]\n"
          ],
          "name": "stdout"
        }
      ]
    },
    {
      "cell_type": "code",
      "metadata": {
        "id": "QMX4dpXWF4bU",
        "outputId": "806c11f2-c98e-4e94-9b28-43db5de16a1e",
        "colab": {
          "base_uri": "https://localhost:8080/",
          "height": 647
        }
      },
      "source": [
        "# The size of a resultant matrix depends on the amount of members being factored, \n",
        "# so the function needs to have an if statement that takes this into consideration.\n",
        "\n",
        "def stiff_matrix(xy1, xy2, other_dofs=None):\n",
        "    \"\"\" Given the coordinates of a member's nodes, its stiffness matrix is calculated. \n",
        "    There is also the option to calculate a tuple which includes other degrees \n",
        "    of freedom in order to produce a matrix for the entire system.\n",
        "    \"\"\"\n",
        "    mem_len = member_len(xy1, xy2)\n",
        "    lmx, lmy = dir_cos(xy1, xy2)\n",
        "    k_arr = np.array(\n",
        "        [\n",
        "        [lmx**2, lmx*lmy, -lmx**2, -lmx*lmy],\n",
        "        [lmx*lmy, lmy**2, -lmx*lmy, -lmy**2],\n",
        "        [-lmx**2, -lmx*lmy, lmx**2, lmx*lmy],\n",
        "        [-lmx*lmy, -lmy**2, lmx*lmy, lmy**2]\n",
        "        ]\n",
        "    ) / mem_len\n",
        "    \"\"\"Checks for degrees of freedom and inserts rows/cols of zeroes if condition is met\n",
        "    \"\"\"\n",
        "    if other_dofs:\n",
        "        for i in other_dofs:\n",
        "            k_arr = np.insert(k_arr, i-1, 0, axis=0)\n",
        "            k_arr = np.insert(k_arr, i-1, 0, axis=1)\n",
        "    return k_arr\n",
        "\n",
        "\n",
        "k1 = stiff_matrix((x1, y1), (x2, y2), (5, 6, 7, 8, ))\n",
        "k2 = stiff_matrix((x1, y1), (x3, y3), (3, 4, 7, 8, ))\n",
        "k3 = stiff_matrix((x1, y1), (x4, y4), (3, 4, 5, 6, ))\n",
        "\n",
        "print(k1, '\\n')\n",
        "print(k2, '\\n')\n",
        "print(k3)"
      ],
      "execution_count": 21,
      "outputs": [
        {
          "output_type": "stream",
          "text": [
            "[[ 0.08838835  0.08838835 -0.08838835 -0.08838835  0.          0.\n",
            "   0.          0.        ]\n",
            " [ 0.08838835  0.08838835 -0.08838835 -0.08838835  0.          0.\n",
            "   0.          0.        ]\n",
            " [-0.08838835 -0.08838835  0.08838835  0.08838835  0.          0.\n",
            "   0.          0.        ]\n",
            " [-0.08838835 -0.08838835  0.08838835  0.08838835  0.          0.\n",
            "   0.          0.        ]\n",
            " [ 0.          0.          0.          0.          0.          0.\n",
            "   0.          0.        ]\n",
            " [ 0.          0.          0.          0.          0.          0.\n",
            "   0.          0.        ]\n",
            " [ 0.          0.          0.          0.          0.          0.\n",
            "   0.          0.        ]\n",
            " [ 0.          0.          0.          0.          0.          0.\n",
            "   0.          0.        ]] \n",
            "\n",
            "[[ 0.   -0.    0.    0.   -0.    0.    0.    0.  ]\n",
            " [-0.    0.25  0.    0.    0.   -0.25  0.    0.  ]\n",
            " [ 0.    0.    0.    0.    0.    0.    0.    0.  ]\n",
            " [ 0.    0.    0.    0.    0.    0.    0.    0.  ]\n",
            " [-0.    0.    0.    0.    0.   -0.    0.    0.  ]\n",
            " [ 0.   -0.25  0.    0.   -0.    0.25  0.    0.  ]\n",
            " [ 0.    0.    0.    0.    0.    0.    0.    0.  ]\n",
            " [ 0.    0.    0.    0.    0.    0.    0.    0.  ]] \n",
            "\n",
            "[[ 0.072 -0.096  0.     0.     0.     0.    -0.072  0.096]\n",
            " [-0.096  0.128  0.     0.     0.     0.     0.096 -0.128]\n",
            " [ 0.     0.     0.     0.     0.     0.     0.     0.   ]\n",
            " [ 0.     0.     0.     0.     0.     0.     0.     0.   ]\n",
            " [ 0.     0.     0.     0.     0.     0.     0.     0.   ]\n",
            " [ 0.     0.     0.     0.     0.     0.     0.     0.   ]\n",
            " [-0.072  0.096  0.     0.     0.     0.     0.072 -0.096]\n",
            " [ 0.096 -0.128  0.     0.     0.     0.    -0.096  0.128]]\n"
          ],
          "name": "stdout"
        }
      ]
    },
    {
      "cell_type": "markdown",
      "metadata": {
        "id": "dEO3e64gefy5"
      },
      "source": [
        "$$\n",
        "\\mathbf{Q} = \\mathbf{K} \\, \\mathbf{D}\n",
        "$$\n",
        "\n",
        "$$\n",
        "\\begin{bmatrix}\n",
        "Q_1 \\\\\n",
        "Q_2 \\\\\n",
        "... \\\\\n",
        "Q_n\n",
        "\\end{bmatrix}\n",
        "= \n",
        "\\begin{bmatrix}\n",
        "\\sum(\\lambda x)^2_1 & \\sum(\\lambda x \\lambda y)_2 & ... \\\\\n",
        "\\sum(\\lambda x \\lambda y)_1 & \\sum(\\lambda y)^2_2 & ... \\\\\n",
        "... & ... & ... \\\\\n",
        "... & ... & ...\n",
        "\\end{bmatrix}\n",
        "\\begin{bmatrix}\n",
        "D_1 \\\\\n",
        "D_2 \\\\\n",
        "... \\\\\n",
        "D_n\n",
        "\\end{bmatrix}\n",
        "$$"
      ]
    },
    {
      "cell_type": "code",
      "metadata": {
        "id": "ZpL1bTyXejqQ",
        "outputId": "eef927f1-db5c-454b-9835-5bc5cf453158",
        "colab": {
          "base_uri": "https://localhost:8080/",
          "height": 313
        }
      },
      "source": [
        "# Add \"sub-matrices\" together to get resultant matrix\n",
        "k_res = k1 + k2 + k3\n",
        "k_res"
      ],
      "execution_count": 22,
      "outputs": [
        {
          "output_type": "execute_result",
          "data": {
            "text/plain": [
              "array([[ 0.16038835, -0.00761165, -0.08838835, -0.08838835,  0.        ,\n",
              "         0.        , -0.072     ,  0.096     ],\n",
              "       [-0.00761165,  0.46638835, -0.08838835, -0.08838835,  0.        ,\n",
              "        -0.25      ,  0.096     , -0.128     ],\n",
              "       [-0.08838835, -0.08838835,  0.08838835,  0.08838835,  0.        ,\n",
              "         0.        ,  0.        ,  0.        ],\n",
              "       [-0.08838835, -0.08838835,  0.08838835,  0.08838835,  0.        ,\n",
              "         0.        ,  0.        ,  0.        ],\n",
              "       [ 0.        ,  0.        ,  0.        ,  0.        ,  0.        ,\n",
              "         0.        ,  0.        ,  0.        ],\n",
              "       [ 0.        , -0.25      ,  0.        ,  0.        ,  0.        ,\n",
              "         0.25      ,  0.        ,  0.        ],\n",
              "       [-0.072     ,  0.096     ,  0.        ,  0.        ,  0.        ,\n",
              "         0.        ,  0.072     , -0.096     ],\n",
              "       [ 0.096     , -0.128     ,  0.        ,  0.        ,  0.        ,\n",
              "         0.        , -0.096     ,  0.128     ]])"
            ]
          },
          "metadata": {
            "tags": []
          },
          "execution_count": 22
        }
      ]
    },
    {
      "cell_type": "markdown",
      "metadata": {
        "id": "a6scKDi-mqqw"
      },
      "source": [
        "There is a 500 lb horizontal load on node 1 to the left.\n",
        "\n",
        "$$\n",
        "\\begin{bmatrix}\n",
        "-500 \\\\\n",
        "0 \\\\\n",
        "Q_3 \\\\\n",
        "Q_4 \\\\\n",
        "Q_5 \\\\\n",
        "Q_6 \\\\\n",
        "Q_7 \\\\\n",
        "Q_8 \\\\\n",
        "\\end{bmatrix}\n",
        "= \n",
        "\\begin{bmatrix}\n",
        "\\mathbf{0.160} & \\mathbf{-0.008} & -0.088 & -0.088 & 0 & 0 & -0.072 & 0.096 \\\\\n",
        "\\mathbf{-0.008} & \\mathbf{0.466} & -0.088 & -0.088 & 0 & -0.25 & 0.096 & -0.128 \\\\\n",
        "\\mathbf{-0.088} & \\mathbf{-0.088} & 0.088 & 0.088 & 0 & 0 & 0 & 0 \\\\\n",
        "\\mathbf{-0.088} & \\mathbf{-0.088} & 0.088 & 0.088 & 0 & 0 & 0 & 0 \\\\\n",
        "\\mathbf{0} & \\mathbf{0} & 0 & 0 & 0 & 0 & 0 & 0 \\\\\n",
        "\\mathbf{0} & \\mathbf{-0.25} & 0 & 0 & 0 & 0.25 & 0 & 0 \\\\\n",
        "\\mathbf{-0.072} & \\mathbf{0.096} & 0 & 0 & 0 & 0 & 0.072 & -0.096 \\\\\n",
        "\\mathbf{0.096} & \\mathbf{-0.128} & 0 & 0 & 0 & 0 & -0.096 & 0.128 \\\\\n",
        "\\end{bmatrix}\n",
        "\\begin{bmatrix}\n",
        "D_1 \\\\\n",
        "D_2 \\\\\n",
        "D_3 \\\\\n",
        "0 \\\\\n",
        "0 \\\\\n",
        "0 \\\\\n",
        "0 \\\\\n",
        "0 \\\\\n",
        "\\end{bmatrix}\n",
        "$$\n",
        "\n",
        "The focus is on the first two degrees of freedom.\n",
        "\n",
        "$$\n",
        "M\n",
        "=\n",
        "\\begin{bmatrix}\n",
        "\\mathbf{0.160} & \\mathbf{-0.008} \\\\\n",
        "\\mathbf{-0.008} & \\mathbf{0.466} \\\\\n",
        "\\end{bmatrix}\n",
        "$$\n",
        "\n",
        "This section *M* of the matrix *K* can be used in the rearranged equation shown below to solve for D.\n",
        "$$\n",
        "\\mathbf{Q} = \\mathbf{K} \\mathbf{D} → \\mathbf{Q} = \\mathbf{M} \\mathbf{D} → \\mathbf{D} = \\mathbf{M^{-1}} \\mathbf{Q}\n",
        "$$"
      ]
    },
    {
      "cell_type": "code",
      "metadata": {
        "id": "JGESuOE7rrmd",
        "outputId": "936c8ea3-4315-41ec-8234-0d59b42b9a99",
        "colab": {
          "base_uri": "https://localhost:8080/",
          "height": 54
        }
      },
      "source": [
        "# Section M of the matrix K\n",
        "# first two degrees of freedom\n",
        "\n",
        "m_mtx = k_res[:2, :2]\n",
        "m_mtx"
      ],
      "execution_count": 29,
      "outputs": [
        {
          "output_type": "execute_result",
          "data": {
            "text/plain": [
              "array([[ 0.16038835, -0.00761165],\n",
              "       [-0.00761165,  0.46638835]])"
            ]
          },
          "metadata": {
            "tags": []
          },
          "execution_count": 29
        }
      ]
    },
    {
      "cell_type": "code",
      "metadata": {
        "id": "d013KorI2Hmw",
        "outputId": "410144c5-ef71-43eb-9954-4e4e50655fe0",
        "colab": {
          "base_uri": "https://localhost:8080/",
          "height": 35
        }
      },
      "source": [
        "# Q matrix\n",
        "\n",
        "q_mtx = [\n",
        "         [-500],\n",
        "         [0],\n",
        "]\n",
        "\n",
        "q_mtx"
      ],
      "execution_count": 31,
      "outputs": [
        {
          "output_type": "execute_result",
          "data": {
            "text/plain": [
              "[[-500], [0]]"
            ]
          },
          "metadata": {
            "tags": []
          },
          "execution_count": 31
        }
      ]
    },
    {
      "cell_type": "code",
      "metadata": {
        "id": "QUBuFNLK1D06",
        "outputId": "484a9e0f-4922-47dc-f749-7cff63dcb8fa",
        "colab": {
          "base_uri": "https://localhost:8080/",
          "height": 54
        }
      },
      "source": [
        "# Solving for the value of D\n",
        "\n",
        "d_val = np.linalg.inv(m_mtx).dot(q_mtx)\n",
        "d_val"
      ],
      "execution_count": 32,
      "outputs": [
        {
          "output_type": "execute_result",
          "data": {
            "text/plain": [
              "array([[-3119.84986285],\n",
              "       [  -50.91725097]])"
            ]
          },
          "metadata": {
            "tags": []
          },
          "execution_count": 32
        }
      ]
    },
    {
      "cell_type": "markdown",
      "metadata": {
        "id": "WcRe7DsM2lO-"
      },
      "source": [
        "Using the lower partition of the stiffness matrix, the reactions at the supports can be calculated."
      ]
    },
    {
      "cell_type": "code",
      "metadata": {
        "id": "laEVnTGN2v0H",
        "outputId": "7972425a-c04f-4919-b110-9f25eea1931c",
        "colab": {
          "base_uri": "https://localhost:8080/",
          "height": 128
        }
      },
      "source": [
        "# Last 6 rows of first two columns of matrix K\n",
        "\n",
        "k_lower = k_res[2:, :2]\n",
        "k_lower"
      ],
      "execution_count": 33,
      "outputs": [
        {
          "output_type": "execute_result",
          "data": {
            "text/plain": [
              "array([[-0.08838835, -0.08838835],\n",
              "       [-0.08838835, -0.08838835],\n",
              "       [ 0.        ,  0.        ],\n",
              "       [ 0.        , -0.25      ],\n",
              "       [-0.072     ,  0.096     ],\n",
              "       [ 0.096     , -0.128     ]])"
            ]
          },
          "metadata": {
            "tags": []
          },
          "execution_count": 33
        }
      ]
    },
    {
      "cell_type": "code",
      "metadata": {
        "id": "P2BHOuoA26nM",
        "outputId": "d33c1f4c-0831-4c71-960a-102becb471e5",
        "colab": {
          "base_uri": "https://localhost:8080/",
          "height": 128
        }
      },
      "source": [
        "q_val = k_lower.dot(d_val)\n",
        "q_val"
      ],
      "execution_count": 34,
      "outputs": [
        {
          "output_type": "execute_result",
          "data": {
            "text/plain": [
              "array([[ 280.25886597],\n",
              "       [ 280.25886597],\n",
              "       [   0.        ],\n",
              "       [  12.72931274],\n",
              "       [ 219.74113403],\n",
              "       [-292.98817871]])"
            ]
          },
          "metadata": {
            "tags": []
          },
          "execution_count": 34
        }
      ]
    },
    {
      "cell_type": "markdown",
      "metadata": {
        "id": "ZK6X3WUM3bx3"
      },
      "source": [
        "After finding the values for *Q*, the forces in each of the members can be determined.\n",
        "\n",
        "$$\n",
        "q_j = \\dfrac{AE}{L}\n",
        "\\begin{bmatrix}\n",
        "-\\lambda x & -\\lambda y & \\lambda x & \\lambda y\n",
        "\\end{bmatrix}\n",
        "\\begin{bmatrix}\n",
        "DNx \\\\\n",
        "DNy \\\\\n",
        "DFx \\\\\n",
        "DFy\n",
        "\\end{bmatrix}\n",
        "$$"
      ]
    },
    {
      "cell_type": "code",
      "metadata": {
        "id": "MTC6G6nI31UX",
        "outputId": "be43086b-a8f9-4655-e9f1-25b9ef848d9c",
        "colab": {
          "base_uri": "https://localhost:8080/",
          "height": 110
        }
      },
      "source": [
        "# Force in member 1\n",
        "q1 = (np.array([-mem_x1, -mem_y1, mem_x1, mem_y1])/mem1).dot([d_val[0], d_val[1], [0], [0]])\n",
        "\n",
        "# Force in member 2\n",
        "q2 = (np.array([-mem_x2, -mem_y2, mem_x2, mem_y2])/mem2).dot([d_val[0], d_val[1], [0], [0]])\n",
        "\n",
        "# Force in member 3\n",
        "q3 = (np.array([-mem_x3, -mem_y3, mem_x3, mem_y3])/mem3).dot([d_val[0], d_val[1], [0], [0]])\n",
        "\n",
        "print('Force in Member 1:', q1, '\\n')\n",
        "print('Force in Member 2:', q2, '\\n')\n",
        "print('Force in Member 3:', q3)"
      ],
      "execution_count": 36,
      "outputs": [
        {
          "output_type": "stream",
          "text": [
            "Force in Member 1: [-396.34588923] \n",
            "\n",
            "Force in Member 2: [-12.72931274] \n",
            "\n",
            "Force in Member 3: [366.23522339]\n"
          ],
          "name": "stdout"
        }
      ]
    }
  ]
}